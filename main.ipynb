{
 "cells": [
  {
   "cell_type": "code",
   "execution_count": 1,
   "metadata": {},
   "outputs": [
    {
     "name": "stdout",
     "output_type": "stream",
     "text": [
      "pygame 2.5.2 (SDL 2.28.3, Python 3.9.6)\n",
      "Hello from the pygame community. https://www.pygame.org/contribute.html\n"
     ]
    },
    {
     "name": "stderr",
     "output_type": "stream",
     "text": [
      "2023-11-12 12:31:14.485 Python[47316:1431110] WARNING: Secure coding is automatically enabled for restorable state! However, not on all supported macOS versions of this application. Opt-in to secure coding explicitly by implementing NSApplicationDelegate.applicationSupportsSecureRestorableState:.\n"
     ]
    },
    {
     "ename": "",
     "evalue": "",
     "output_type": "error",
     "traceback": [
      "\u001b[1;31mThe Kernel crashed while executing code in the the current cell or a previous cell. Please review the code in the cell(s) to identify a possible cause of the failure. Click <a href='https://aka.ms/vscodeJupyterKernelCrash'>here</a> for more info. View Jupyter <a href='command:jupyter.viewOutput'>log</a> for further details."
     ]
    }
   ],
   "source": [
    "import pygame\n",
    "from pygame.locals import *\n",
    "\n",
    "def generate_snake():\n",
    "    surface = pygame.display.set_mode(size = (1000,500))\n",
    "    surface.fill((110, 110, 5))\n",
    "    surface.blit(snake, (snake_x,snake_y))\n",
    "    pygame.display.flip()\n",
    "\n",
    "if __name__ == \"__main__\":\n",
    "    pygame.init()\n",
    "\n",
    "    surface = pygame.display.set_mode(size = (1000,500))\n",
    "    surface.fill((110, 110, 5)) \n",
    "    \n",
    "    snake = pygame.image.load(\"resources/block.jpg\").convert()\n",
    "    snake_x = 100\n",
    "    snake_y = 100\n",
    "    surface.blit(snake, (snake_x,snake_y))\n",
    "\n",
    "    pygame.display.flip()\n",
    "\n",
    "    running = True\n",
    "\n",
    "    while running:\n",
    "        for event in pygame.event.get():\n",
    "            if event.type == KEYDOWN:\n",
    "                if event.key == K_ESCAPE:\n",
    "                    running = False\n",
    "                elif event.key == K_UP:\n",
    "                    snake_y -= 10\n",
    "                    generate_snake()\n",
    "                elif event.key == K_DOWN:\n",
    "                    snake_y += 10\n",
    "                    generate_snake()\n",
    "                elif event.key == K_RIGHT:\n",
    "                    snake_x += 10\n",
    "                    generate_snake()\n",
    "                elif event.key == K_LEFT:\n",
    "                    snake_x -= 10\n",
    "                    generate_snake() \n",
    "\n",
    "            "
   ]
  },
  {
   "cell_type": "markdown",
   "metadata": {},
   "source": [
    "**Why do we use this “if __name__ == '__main__':”?**\n",
    "\n",
    "-->If you are using this, the code you have written inside the ‘if’ statement will only execute when you run this file. If you import this file to another file, the code you have written inside the “if” statement will not execute. \n",
    "For e.g., Here we have two files, “mymath.py” and “test.py”\n",
    "\n",
    "-->So, if you run “mymath.py” the output will be “mymath \\n 26”. But if you run “test.py”, you will get “mymath \\n 13”. Because running “test.py” will convert your “__main__ = test”, so the “if” statement will not execute. \n",
    "\n",
    "**Why did we put “pygame.init()” in the above “if statement” and what is the point of using “pygame.init()” if the game can run without it?**\n",
    "\n",
    "--> The pygame.init() function initializes the pygame library. It must be called before any other pygame functions are called.\n",
    "--> We used it in the \"main\" file. We do not want to run every time we import the main file. So that is why I used it inside the \"if statement\".\n",
    "--> It's a catch-all initialization function. I had the same question when I first started using Pygame. Not every module you use needs to be initialized, but some do. That's probably why you haven't run into any issues with it. You could also run the individual init functions for the modules that need it and skip this one, but it's probably just easier to use this one as a catch-all.\n",
    "\n",
    "# To fill different background color you can search for different RGB value in Google.\n",
    "\n",
    "# Here using flip() will update the contents of the entire display.\n",
    "\n",
    "**In the above code the display keep running away. So, How can I use fix that?** \n",
    "\n",
    "--> In any UI application there is some concept called event loop. \n",
    "--> What I want is if I press some key, **my game should exit the display. So, How to do that?** \n",
    "--> An event is an activity taken by the user to get the desired outcome. A click event, for example, occurs when a user presses a button. All of the user's events are now inserted into an event queue.\n",
    "--> To get events in pygame, you can use the \"pygame.event.get()\" function.\n",
    "\n",
    "# pygame.locals is a module in the pygame library that contains definitions for constants used frequently in Pygame applications. The constants are defined in respective modules, but it's easier to use them from the locals module.\n",
    "\n",
    "**Now you want to load the image of the snake. The question is How and Where?** \n",
    "--> To load the image on the display. You use the image.load() function.\n",
    "--> convert() change the pixel format of an image with no arguments, to create a copy that will draw more quickly on the screen.\n",
    "--> To place the image one into another you can use \"# Blit image1 onto image2 --> pygame.blit(image1, (0, 0), image2)\". Here (0,0) are the coordinates of the image yoy are placing. \n",
    "\n",
    "**Now the questionn comes, How are you going to move the block?**\n",
    "--> One way is --> You can generate block every time when you move to next position. But you also want to delete the last block you generated you can do that by generating the display again \"surface = pygame.display.set_mode(size = (1000,500))\". And you want to update the display everytime.   \n",
    "\n",
    "**Congrats now your code is working. Now it's time to change it in OOPs. So, that it looks more structured.** \n"
   ]
  },
  {
   "cell_type": "code",
   "execution_count": 1,
   "metadata": {},
   "outputs": [
    {
     "name": "stdout",
     "output_type": "stream",
     "text": [
      "pygame 2.5.2 (SDL 2.28.3, Python 3.9.6)\n",
      "Hello from the pygame community. https://www.pygame.org/contribute.html\n"
     ]
    },
    {
     "name": "stderr",
     "output_type": "stream",
     "text": [
      "2023-11-12 14:31:32.028 Python[54718:1529369] WARNING: Secure coding is automatically enabled for restorable state! However, not on all supported macOS versions of this application. Opt-in to secure coding explicitly by implementing NSApplicationDelegate.applicationSupportsSecureRestorableState:.\n"
     ]
    },
    {
     "ename": "",
     "evalue": "",
     "output_type": "error",
     "traceback": [
      "\u001b[1;31mThe Kernel crashed while executing code in the the current cell or a previous cell. Please review the code in the cell(s) to identify a possible cause of the failure. Click <a href='https://aka.ms/vscodeJupyterKernelCrash'>here</a> for more info. View Jupyter <a href='command:jupyter.viewOutput'>log</a> for further details."
     ]
    }
   ],
   "source": [
    "import pygame \n",
    "from pygame.locals import *\n",
    "\n",
    "class Game:\n",
    "\n",
    "    def __init__(self):\n",
    "        pygame.init()\n",
    "        self.surface = pygame.display.set_mode((500,500))\n",
    "        self.surface.fill((110,110,5))\n",
    "        self.snake = Snake(self.surface)\n",
    "        self.snake.generate_snake()\n",
    "        self.run()\n",
    "\n",
    "    def run(self):\n",
    "        running = True\n",
    "\n",
    "        while running:\n",
    "            for event in pygame.event.get():\n",
    "                if event.type == KEYDOWN:\n",
    "                    if event.key == K_ESCAPE:\n",
    "                        running = False\n",
    "                    \n",
    "                    elif event.key == K_UP:\n",
    "                        self.snake.move_up()\n",
    "                        \n",
    "                    elif event.key == K_DOWN:\n",
    "                        self.snake.move_down()\n",
    "                        \n",
    "                    elif event.key == K_RIGHT:\n",
    "                        self.snake.move_right()\n",
    "\n",
    "                    elif event.key == K_LEFT:\n",
    "                        self.snake.move_left() \n",
    "\n",
    "class Snake:\n",
    "\n",
    "    def __init__(self, new_surface):\n",
    "        self.new_surface = new_surface\n",
    "        self.snake = pygame.image.load(\"resources/block.jpg\").convert()\n",
    "        self.snake_x = 100\n",
    "        self.snake_y = 100\n",
    "\n",
    "    def generate_snake(self):\n",
    "        self.new_surface.fill((110,110,5))\n",
    "        self.new_surface.blit(self.snake, (self.snake_x,self.snake_y))\n",
    "        pygame.display.flip()\n",
    "\n",
    "    def move_up(self):\n",
    "        self.snake_y -= 10\n",
    "        self.generate_snake()\n",
    "\n",
    "    def move_down(self):\n",
    "        self.snake_y += 10\n",
    "        self.generate_snake()\n",
    "\n",
    "    def move_right(self):\n",
    "        self.snake_x += 10\n",
    "        self.generate_snake()\n",
    "\n",
    "    def move_left(self):\n",
    "        self.snake_x -= 10    \n",
    "        self.generate_snake()\n",
    "\n",
    "if __name__ == '__main__':\n",
    "    game = Game()\n",
    "    game.run()"
   ]
  },
  {
   "cell_type": "markdown",
   "metadata": {},
   "source": [
    "**Now to convert the code from procedural to OOPs what should we do?**\n",
    "First you want to import all the necessary liabraries.\n",
    "After that I want to decrease the number of line of codes in \"if statement\". Because I want if someone wants to import the functions from my module they can do it easily.\n",
    "So I want to write only run functions inside the \"if statement\".\n",
    "I can create the object name game which calls the class \"Game\" and in that I want to define run().\n",
    "\n",
    "Now it's time to move every code in classes.\n",
    "--> pyagame init. You should put that in the class constructor, you want it to run automatically.\n",
    "--> The second thing you created was screen. You want to do that in the constructor so you can call it anytime you want.\n",
    "--> Now it's time to think about snake. You can make new class or define a function inside run().\n",
    "--> Here is redundancy of code. For generating screen you are writting again and angain.\n",
    "--> For that you can create a new attribute called a \"new_surface\" and whenever you want to generate new snake it should use the \"new_surface\". \n",
    "--> Two lines more needed for generating the snake. \"flip and color of the surface\".\n",
    "\n",
    "Now main event loop is left.\n",
    "--> It would be more readable when we can create a function for every key event inside the snake object.\n",
    "--> Remember that if statement should be at bottom. Because code is running line by line."
   ]
  }
 ],
 "metadata": {
  "kernelspec": {
   "display_name": "Python 3",
   "language": "python",
   "name": "python3"
  },
  "language_info": {
   "codemirror_mode": {
    "name": "ipython",
    "version": 3
   },
   "file_extension": ".py",
   "mimetype": "text/x-python",
   "name": "python",
   "nbconvert_exporter": "python",
   "pygments_lexer": "ipython3",
   "version": "3.9.6"
  }
 },
 "nbformat": 4,
 "nbformat_minor": 2
}
